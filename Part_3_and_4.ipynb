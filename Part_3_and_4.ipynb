{
 "cells": [
  {
   "cell_type": "markdown",
   "metadata": {},
   "source": [
    "# <center> Harlinton Palacios Mosquera</center>\n",
    "# <center>161041033</center>"
   ]
  },
  {
   "cell_type": "markdown",
   "metadata": {},
   "source": [
    "#  <center>Part 3: Classifier based on linear SVM.</center>"
   ]
  },
  {
   "cell_type": "code",
   "execution_count": 1,
   "metadata": {},
   "outputs": [
    {
     "name": "stderr",
     "output_type": "stream",
     "text": [
      "C:\\Users\\Harlinton\\Anaconda3\\lib\\site-packages\\sklearn\\cross_validation.py:41: DeprecationWarning: This module was deprecated in version 0.18 in favor of the model_selection module into which all the refactored classes and functions are moved. Also note that the interface of the new CV iterators are different from that of this module. This module will be removed in 0.20.\n",
      "  \"This module will be removed in 0.20.\", DeprecationWarning)\n"
     ]
    }
   ],
   "source": [
    "from sklearn.cross_validation import KFold\n",
    "import numpy as np\n",
    "import sklearn\n",
    "from sklearn.model_selection import StratifiedShuffleSplit, StratifiedKFold\n",
    "from sklearn import svm, datasets\n",
    "from sklearn.datasets import load_iris\n",
    "import itertools\n",
    "import matplotlib.pyplot as plt\n",
    "from sklearn import svm, datasets\n",
    "from sklearn.model_selection import train_test_split\n",
    "from sklearn.metrics import confusion_matrix\n",
    "from itertools import cycle\n",
    "from sklearn.metrics import roc_curve, auc\n",
    "from sklearn.preprocessing import label_binarize\n",
    "from sklearn.multiclass import OneVsRestClassifier\n",
    "from scipy import interp\n",
    "from time import time"
   ]
  },
  {
   "cell_type": "markdown",
   "metadata": {},
   "source": [
    "import the libraries needed for this homework session"
   ]
  },
  {
   "cell_type": "code",
   "execution_count": 2,
   "metadata": {},
   "outputs": [
    {
     "data": {
      "text/plain": [
       "array(['setosa', 'versicolor', 'virginica'], dtype='<U10')"
      ]
     },
     "execution_count": 2,
     "metadata": {},
     "output_type": "execute_result"
    }
   ],
   "source": [
    "iris = load_iris()\n",
    "splits = 4\n",
    "\n",
    "\n",
    "class_names= iris.target_names\n",
    "X = iris.data\n",
    "y = iris.target\n",
    "\n",
    "kfold = StratifiedKFold(n_splits=splits, shuffle=True, random_state=42)\n",
    "\n",
    "for train_index, test_index in kfold.split(X, y):\n",
    "    X_train = X[train_index]\n",
    "    X_test = X[test_index]\n",
    "    y_train = y[train_index]\n",
    "    y_test = y[test_index]\n",
    "\n",
    "class_names"
   ]
  },
  {
   "cell_type": "markdown",
   "metadata": {},
   "source": [
    "in this session I download the iris data base from the sklearn.datasets library, which is a simpler way to get some databases without downloading  files and then read it also in this section is the division of data, for this I used k-fold cross validation.\n",
    "\n",
    "In KFolds, each test set should not overlap, even with shuffle. With KFolds and shuffle, the data is shuffled once at the start, and then divided into the number of desired splits. The test data is always one of the splits, the train data is the rest. In ShuffleSplit, the data is shuffled every time, and then split.\n"
   ]
  },
  {
   "cell_type": "code",
   "execution_count": 3,
   "metadata": {
    "collapsed": true
   },
   "outputs": [],
   "source": [
    "# Run classifier, using a model that is too regularized (C too low) to see\n",
    "# the impact on the results\n",
    "\n",
    "tiempo_inicial = time() \n",
    "classifier = svm.SVC(kernel='poly', C=0.01)\n",
    "y_pred = classifier.fit(X_train, y_train).predict(X_test)\n",
    "tiempo_final = time()\n",
    "tiempo_ejecucion = tiempo_final - tiempo_inicial\n"
   ]
  },
  {
   "cell_type": "markdown",
   "metadata": {},
   "source": [
    "This is one of the most important parts of the code because it created the pararamentro for linear support.\n",
    "vector machine and Polynomial kernel.\n",
    "\n",
    "<b>Linear: SVM </b>is the newest extremely fast machine learning (data mining) algorithm for solving multiclass classification problems from ultra large data sets that implements an original proprietary version of a cutting plane algorithm for designing a linear support vector machine.\n",
    "\n",
    "<b>The polynomial kernel </b> is a kernel function commonly used with support vector machines (SVMs) and other kernelized models, that represents the similarity of vectors (training samples) in a feature space over polynomials of the original variables, allowing learning of non-linear models.\n"
   ]
  },
  {
   "cell_type": "code",
   "execution_count": 4,
   "metadata": {
    "collapsed": true
   },
   "outputs": [],
   "source": [
    "def plot_confusion_matrix(cm, classes,\n",
    "                          normalize=False,\n",
    "                          title='Confusion matrix',\n",
    "                          cmap=plt.cm.Blues):\n",
    "    \"\"\"\n",
    "    This function prints and plots the confusion matrix.\n",
    "    Normalization can be applied by setting `normalize=True`.\n",
    "    \"\"\"\n",
    "    if normalize:\n",
    "        cm = cm.astype('float') / cm.sum(axis=1)[:, np.newaxis]\n",
    "        print(\"Normalized confusion matrix\")\n",
    "    else:\n",
    "        print('Confusion matrix, without normalization')\n",
    "\n",
    "    print(cm)\n",
    "\n",
    "    plt.imshow(cm, interpolation='nearest', cmap=cmap)\n",
    "    plt.title(title)\n",
    "    plt.colorbar()\n",
    "    tick_marks = np.arange(len(classes))\n",
    "    plt.xticks(tick_marks, classes, rotation=45)\n",
    "    plt.yticks(tick_marks, classes)\n",
    "\n",
    "    fmt = '.2f' if normalize else 'd'\n",
    "    thresh = cm.max() / 2.\n",
    "    for i, j in itertools.product(range(cm.shape[0]), range(cm.shape[1])):\n",
    "        plt.text(j, i, format(cm[i, j], fmt),\n",
    "                 horizontalalignment=\"center\",\n",
    "                 color=\"white\" if cm[i, j] > thresh else \"black\")\n",
    "\n",
    "    plt.tight_layout()\n",
    "    plt.ylabel('True label')\n",
    "    plt.xlabel('Predicted label')\n"
   ]
  },
  {
   "cell_type": "markdown",
   "metadata": {},
   "source": [
    "This function prints and plots the confusion matrix.\n",
    "  "
   ]
  },
  {
   "cell_type": "code",
   "execution_count": 5,
   "metadata": {
    "collapsed": true
   },
   "outputs": [],
   "source": [
    "yy = label_binarize(y, classes=[0, 1, 2])\n",
    "n_classes = yy.shape[1]\n",
    "\n",
    "random_state = np.random.RandomState(0)\n",
    "n_samples, n_features = X.shape\n",
    "XX = np.c_[X, random_state.randn(n_samples, 200 * n_features)]\n",
    "\n",
    "\n",
    "XX_train, XX_test, yy_train, yy_test = train_test_split(XX, yy,  random_state=0)\n",
    "\n",
    "classifier = OneVsRestClassifier(svm.SVC(kernel='poly', probability=True,\n",
    "                                 random_state=random_state))\n",
    "yy_score = classifier.fit(XX_train, yy_train).decision_function(XX_test)\n"
   ]
  },
  {
   "cell_type": "markdown",
   "metadata": {},
   "source": [
    "in this section he used the OneVsRestClassifier function with its respective parameters to be able to draw the ROC curve curves"
   ]
  },
  {
   "cell_type": "code",
   "execution_count": 6,
   "metadata": {
    "collapsed": true
   },
   "outputs": [],
   "source": [
    "fpr = dict()\n",
    "tpr = dict()\n",
    "roc_auc = dict()\n",
    "for i in range(n_classes):\n",
    "    fpr[i], tpr[i], _ = roc_curve(yy_test[:, i], yy_score[:, i])\n",
    "    roc_auc[i] = auc(fpr[i], tpr[i])\n",
    "\n",
    "fpr[\"micro\"], tpr[\"micro\"], _ = roc_curve(yy_test.ravel(), yy_score.ravel())\n",
    "roc_auc[\"micro\"] = auc(fpr[\"micro\"], tpr[\"micro\"])\n"
   ]
  },
  {
   "cell_type": "markdown",
   "metadata": {},
   "source": [
    "Compute ROC curve and ROC area for each class and  Compute micro-average ROC curve and ROC area"
   ]
  },
  {
   "cell_type": "code",
   "execution_count": 7,
   "metadata": {
    "collapsed": true
   },
   "outputs": [],
   "source": [
    "def confusionMatrices():\n",
    "    cnf_matrix = confusion_matrix(y_test, y_pred)\n",
    "    np.set_printoptions(precision=2)\n",
    "\n",
    "    # Plot non-normalized confusion matrix\n",
    "    plt.figure()\n",
    "    plot_confusion_matrix(cnf_matrix, classes=class_names,\n",
    "                      title='Confusion matrix, without normalization')\n",
    "\n",
    "    # Plot normalized confusion matrix\n",
    "    plt.figure()\n",
    "    plot_confusion_matrix(cnf_matrix, classes=class_names, normalize=True,\n",
    "                      title='Normalized confusion matrix')\n",
    "    \n"
   ]
  },
  {
   "cell_type": "markdown",
   "metadata": {},
   "source": [
    "In this section I created and printed the matrix with the help of the library(matplotlib.pyplot)"
   ]
  },
  {
   "cell_type": "code",
   "execution_count": 8,
   "metadata": {
    "collapsed": true
   },
   "outputs": [],
   "source": [
    "def confusion(y_test, y_pred, nb):\n",
    "    confmat = np.zeros((nb, nb))\n",
    "    for y, y_ in zip(y_test, y_pred):\n",
    "        confmat[y-1][y_-1] += 1\n",
    "    return confmat\n",
    "\n",
    "\n",
    "def calculate_recall(confmat):\n",
    "    recall = 0\n",
    "    i = 0\n",
    "    for x in np.diagonal(confmat):\n",
    "        s = sum(np.transpose(confmat)[i])\n",
    "        if s == 0:\n",
    "            i += 1\n",
    "            continue\n",
    "        recall += x / s\n",
    "        i+=1\n",
    "    return recall / i\n",
    "\n",
    "def calculate_precision(confmat):\n",
    "    precision = 0\n",
    "    i = 0\n",
    "    for x in np.diagonal(confmat):\n",
    "        s = sum(confmat[i])\n",
    "        if s == 0:\n",
    "            i += 1\n",
    "            continue\n",
    "        precision += x / s\n",
    "        i+=1\n",
    "    return precision / i\n",
    "\n",
    "def calculate_acc(confmat):\n",
    "    return sum(confmat.diagonal()) / sum(sum(confmat))\n",
    "   \n",
    "accuracy = 0\n",
    "recall = 0\n",
    "precision = 0\n",
    "confmat = confusion(y_test, y_pred, max(y_train))\n",
    "accuracy += calculate_acc(confmat)\n",
    "recall += calculate_recall(confmat)\n",
    "precision += calculate_precision(confmat)"
   ]
  },
  {
   "cell_type": "markdown",
   "metadata": {},
   "source": [
    "This function makes me Compute confusion matrix"
   ]
  },
  {
   "cell_type": "code",
   "execution_count": 9,
   "metadata": {
    "collapsed": true
   },
   "outputs": [],
   "source": [
    "def dataoput():\n",
    "    print (\"Time: %.4f\" %(tiempo_ejecucion)) #En segundos\n",
    "    print (\"ACCURACY : \", (accuracy))\n",
    "    print (\"PRECISION : \", precision )\n",
    "    print (\"RECALL : \", recall )\n"
   ]
  },
  {
   "cell_type": "markdown",
   "metadata": {},
   "source": [
    "In this section I print the obtained results such as time, Accuracy, Predition and Recall"
   ]
  },
  {
   "cell_type": "code",
   "execution_count": 10,
   "metadata": {
    "collapsed": true,
    "scrolled": false
   },
   "outputs": [],
   "source": [
    "def CurverRoc():\n",
    "    plt.figure()\n",
    "    lw = 2\n",
    "    plt.plot(fpr[2], tpr[2], color='darkorange',\n",
    "         lw=lw, label='ROC curve (area = %0.2f)' % roc_auc[2])\n",
    "    plt.plot([0, 1], [0, 1], color='navy', lw=lw, linestyle='--')\n",
    "    plt.xlim([0.0, 1.0])\n",
    "    plt.ylim([0.0, 1.05])\n",
    "    plt.xlabel('False Positive Rate')\n",
    "    plt.ylabel('True Positive Rate')\n",
    "    plt.title('Receiver operating characteristic example')\n",
    "    plt.legend(loc=\"lower right\")\n",
    "    plt.show()"
   ]
  },
  {
   "cell_type": "markdown",
   "metadata": {},
   "source": [
    "This function draws the graphics using the library matplotlib.pyplot"
   ]
  },
  {
   "cell_type": "code",
   "execution_count": 11,
   "metadata": {
    "scrolled": true
   },
   "outputs": [
    {
     "name": "stdout",
     "output_type": "stream",
     "text": [
      "Time: 0.0746\n",
      "ACCURACY :  0.944444444444\n",
      "PRECISION :  0.9375\n",
      "RECALL :  0.9375\n",
      "Confusion matrix, without normalization\n",
      "[[12  0  0]\n",
      " [ 0 11  1]\n",
      " [ 0  1 11]]\n",
      "Normalized confusion matrix\n",
      "[[ 1.    0.    0.  ]\n",
      " [ 0.    0.92  0.08]\n",
      " [ 0.    0.08  0.92]]\n"
     ]
    },
    {
     "data": {
      "image/png": "[encoded data removed]",
      "text/plain": [
       "<matplotlib.figure.Figure at 0x1a819059668>"
      ]
     },
     "metadata": {},
     "output_type": "display_data"
    },
    {
     "data": {
      "image/png": "[encoded data removed]",
      "text/plain": [
       "<matplotlib.figure.Figure at 0x1a81c098550>"
      ]
     },
     "metadata": {},
     "output_type": "display_data"
    },
    {
     "data": {
      "image/png": "[encoded data removed]",
      "text/plain": [
       "<matplotlib.figure.Figure at 0x1a81903bac8>"
      ]
     },
     "metadata": {},
     "output_type": "display_data"
    }
   ],
   "source": [
    "dataoput()\n",
    "confusionMatrices()\n",
    "CurverRoc()"
   ]
  },
  {
   "cell_type": "markdown",
   "metadata": {},
   "source": [
    "#  <center>Part 4:Result classifier based on linear SVM.</center>"
   ]
  },
  {
   "cell_type": "markdown",
   "metadata": {},
   "source": [
    "This function is used in part 3 and 4 of this homework, it creates an SVM instance using a specified kernel (linear, polynomial.), trains the data and tries to predict the labels for the test vectors. Finally, it returns the predicted labels for the test set.\n",
    "________________________________________________________________\n",
    "<img src=\"https://image.ibb.co/jAnRf7/Screenshot_from_2018_03_12_13_20_25.png\" alt=\"Drawing\" style=\"width: 800px;\"/>\n",
    "\n",
    "Linear Kernel: K(X,Y)=XTY\n",
    "\n",
    "Polynomial kernel: K(X,Y)=(γ⋅XTY+r)d,γ>0\n",
    "_________________________________________________________________"
   ]
  },
  {
   "cell_type": "markdown",
   "metadata": {},
   "source": [
    "<b>ACCURACY: </b> 0.944536122333\n",
    "\n",
    "<b>PRECISION:</b>  0.941932962963\n",
    "\n",
    "<b> RECALL: </b>    0.939732337379\n",
    "\n",
    "<b>TIME: </b> 0.0028\n",
    "\n",
    "<img src=\"https://image.ibb.co/niX1f7/index.png\" alt=\"Drawing\" style=\"width: 700px;\"/>\n",
    "<img src=\"https://image.ibb.co/c0uxL7/index1.png\" alt=\"Drawing\" style=\"width: 700px;\"/>\n",
    "<img src=\"https://image.ibb.co/m8pxL7/index2.png\" alt=\"Drawing\" style=\"width: 700px;\"/>\n"
   ]
  },
  {
   "cell_type": "markdown",
   "metadata": {},
   "source": [
    "In conclusion to generate the results we can say that both Linear support vector machines ( Lineal SVM) and SVM Polynomial models were performing well with the iris database, in relation to the execution time they did not have much difference, in the same way for Recall, Accuracy and Precision. In the aspecato that can notice much more difference was in the Normalized confusion matrix and in the Confusion matrix, without normalization. In the Normalized confusion matrixfor linear SVM it is noticeable a bit more precise when classifying the data."
   ]
  }
 ],
 "metadata": {
  "kernelspec": {
   "display_name": "Python 3",
   "language": "python",
   "name": "python3"
  },
  "language_info": {
   "codemirror_mode": {
    "name": "ipython",
    "version": 3
   },
   "file_extension": ".py",
   "mimetype": "text/x-python",
   "name": "python",
   "nbconvert_exporter": "python",
   "pygments_lexer": "ipython3",
   "version": "3.7.1"
  }
 },
 "nbformat": 4,
 "nbformat_minor": 2
}
